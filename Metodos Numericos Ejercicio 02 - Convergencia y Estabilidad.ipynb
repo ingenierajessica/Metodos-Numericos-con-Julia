{
 "cells": [
  {
   "cell_type": "markdown",
   "metadata": {},
   "source": [
    "# UNAM - Posgrado en Ciencia e Ingeniería de la Computación"
   ]
  },
  {
   "cell_type": "markdown",
   "metadata": {},
   "source": [
    "## Métodos Numéricos"
   ]
  },
  {
   "cell_type": "markdown",
   "metadata": {},
   "source": [
    "### =========    Convergencia y Estabilidad =========="
   ]
  },
  {
   "cell_type": "markdown",
   "metadata": {},
   "source": [
    "#### Alumna: Ing. Jessica Rincón"
   ]
  },
  {
   "cell_type": "markdown",
   "metadata": {},
   "source": [
    "#### Profesor: Dr. Oscar Esquivel"
   ]
  },
  {
   "cell_type": "markdown",
   "metadata": {},
   "source": [
    "-------------------------------Programación en Julia  2019--------------------------------------------"
   ]
  },
  {
   "cell_type": "markdown",
   "metadata": {},
   "source": [
    "Ejercicio: Encontrar el incremento de error para determinar la  convergencia a lo largo de 10 valores para la función en=ek-1 + 1/k!"
   ]
  },
  {
   "cell_type": "markdown",
   "metadata": {},
   "source": [
    "Error absoluto ϵ=|X-Xa|"
   ]
  },
  {
   "cell_type": "code",
   "execution_count": 42,
   "metadata": {},
   "outputs": [
    {
     "data": {
      "text/plain": [
       "2.71828"
      ]
     },
     "execution_count": 42,
     "metadata": {},
     "output_type": "execute_result"
    }
   ],
   "source": [
    "#Estableciendo la constante\n",
    "e=2.71828"
   ]
  },
  {
   "cell_type": "markdown",
   "metadata": {},
   "source": [
    "e=Suma|1->10|[1/K!]"
   ]
  },
  {
   "cell_type": "code",
   "execution_count": 43,
   "metadata": {},
   "outputs": [
    {
     "name": "stdout",
     "output_type": "stream",
     "text": [
      "ERROR ABSOLUTO\n",
      "er  k1 [Inv(fact(1))]   =>2.0  dif |e-ϵ|=>0.71828\n",
      "er  k2 [Inv(fact(2))]   =>2.5  dif |e-ϵ|=>0.21828000000000003 Incremento |ϵ-ϵ-1|0.5\n",
      "er  k3 [Inv(fact(6))]   =>2.6666666666666665  dif |e-ϵ|=>0.05161333333333351 Incremento |ϵ-ϵ-1|0.16666666666666652\n",
      "er  k4 [Inv(fact(24))]   =>2.708333333333333  dif |e-ϵ|=>0.009946666666666992 Incremento |ϵ-ϵ-1|0.04166666666666652\n",
      "er  k5 [Inv(fact(120))]   =>2.7166666666666663  dif |e-ϵ|=>0.0016133333333336886 Incremento |ϵ-ϵ-1|0.008333333333333304\n",
      "er  k6 [Inv(fact(720))]   =>2.7180555555555554  dif |e-ϵ|=>0.00022444444444458256 Incremento |ϵ-ϵ-1|0.001388888888889106\n",
      "er  k7 [Inv(fact(5040))]   =>2.7182539682539684  dif |e-ϵ|=>2.6031746031662806e-5 Incremento |ϵ-ϵ-1|0.00019841269841291975\n",
      "er  k8 [Inv(fact(40320))]   =>2.71827876984127  dif |e-ϵ|=>1.2301587299923256e-6 Incremento |ϵ-ϵ-1|2.480158730167048e-5\n",
      "er  k9 [Inv(fact(362880))]   =>2.7182815255731922  dif |e-ϵ|=>1.5255731922181326e-6 Incremento |ϵ-ϵ-1|2.755731922210458e-6\n",
      "er  k10 [Inv(fact(3628800))]   =>2.7182818011463845  dif |e-ϵ|=>1.8011463844835873e-6 Incremento |ϵ-ϵ-1|2.7557319226545474e-7\n"
     ]
    }
   ],
   "source": [
    "# poor style\n",
    "n = 10\n",
    "# ϵ = zeros(n)\n",
    "\n",
    "for k in 1:n\n",
    "    f = factorial(k)   \n",
    "    e_fac = 1/f\n",
    "    m = k-1\n",
    "    if k>1        \n",
    "        v= ϵ[m]\n",
    "        t= v + e_fac\n",
    "        [k] = t        \n",
    "    else         \n",
    "        t=e_fac\n",
    "        #ϵ[0]=1 \n",
    "        ϵ[k] = 1 + t\n",
    "        #println(\"aqui\",ϵ)\n",
    "    end \n",
    " \n",
    "end\n",
    "  println(\"ERROR ABSOLUTO\")\n",
    "for k in 1:n\n",
    "    if k == 1\n",
    "       println(\"er  k\",k,\" [Inv(fact(\",factorial(k),\"))]   =>\",ϵ[k],\"  dif |e-ϵ|=>\",abs(e-ϵ[k])  )\n",
    "    else \n",
    "       println(\"er  k\",k,\" [Inv(fact(\",factorial(k),\"))]   =>\",ϵ[k],\"  dif |e-ϵ|=>\",abs(e-ϵ[k]), \" Incremento |ϵ-ϵ-1|\",abs(ϵ[k]-ϵ[k-1]) )\n",
    "    end \n",
    "end"
   ]
  },
  {
   "cell_type": "code",
   "execution_count": null,
   "metadata": {},
   "outputs": [],
   "source": []
  }
 ],
 "metadata": {
  "kernelspec": {
   "display_name": "Julia 1.1.1",
   "language": "julia",
   "name": "julia-1.1"
  },
  "language_info": {
   "file_extension": ".jl",
   "mimetype": "application/julia",
   "name": "julia",
   "version": "1.1.1"
  }
 },
 "nbformat": 4,
 "nbformat_minor": 2
}
