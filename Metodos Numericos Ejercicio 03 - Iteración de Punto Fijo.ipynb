{
 "cells": [
  {
   "cell_type": "markdown",
   "metadata": {},
   "source": [
    "# UNAM - Posgrado en Ciencia e Ingeniería de la Computación"
   ]
  },
  {
   "cell_type": "markdown",
   "metadata": {},
   "source": [
    "## Métodos Numéricos"
   ]
  },
  {
   "cell_type": "markdown",
   "metadata": {},
   "source": [
    "### =========    Iteración de punto fijo =========="
   ]
  },
  {
   "cell_type": "markdown",
   "metadata": {},
   "source": [
    "#### Alumna: Ing. Jessica Rincón"
   ]
  },
  {
   "cell_type": "markdown",
   "metadata": {},
   "source": [
    "#### Profesor: Dr. Oscar Esquivel"
   ]
  },
  {
   "cell_type": "markdown",
   "metadata": {},
   "source": [
    "-------------------------------Programación en Julia  2019--------------------------------------------"
   ]
  },
  {
   "cell_type": "markdown",
   "metadata": {},
   "source": [
    "Ejercicio: Usar el Método bisección y tomar 6 posiciones decimales para encontrar un criterio de precisión"
   ]
  },
  {
   "cell_type": "markdown",
   "metadata": {},
   "source": [
    "f(x) =  cos(x) -x en [0,1]"
   ]
  },
  {
   "cell_type": "code",
   "execution_count": 1,
   "metadata": {},
   "outputs": [
    {
     "name": "stdout",
     "output_type": "stream",
     "text": [
      "a=-0.8390715290764524\n",
      "b=0.6681539175313869\n"
     ]
    }
   ],
   "source": [
    "#Estableciendo las constantes\n",
    "a = cos(10)\n",
    "println(\"a=\",a)\n",
    "b = cos(a)\n",
    "println(\"b=\",b)"
   ]
  },
  {
   "cell_type": "markdown",
   "metadata": {},
   "source": [
    "e=Suma|1->10|[1/K!]"
   ]
  },
  {
   "cell_type": "code",
   "execution_count": 2,
   "metadata": {},
   "outputs": [
    {
     "name": "stdout",
     "output_type": "stream",
     "text": [
      "0.5403023058681398\n",
      "-0.4161468365471424\n",
      "-0.9899924966004454\n",
      "-0.6536436208636119\n",
      "0.28366218546322625\n",
      "0.960170286650366\n",
      "0.7539022543433046\n",
      "-0.14550003380861354\n",
      "-0.9111302618846769\n",
      "-0.8390715290764524\n"
     ]
    }
   ],
   "source": [
    "a= 10\n",
    "for k in 1:10\n",
    "    a=cos(k)\n",
    "    println(a)\n",
    "end"
   ]
  },
  {
   "cell_type": "code",
   "execution_count": null,
   "metadata": {},
   "outputs": [],
   "source": [
    "n=20\n",
    "s=fill(0.,n)\n",
    "a=10\n",
    "for i in 1:n\n",
    "    a= cos(i)\n",
    "    end \n",
    "using plots\n",
    "    plot(s,label =\"cos(Xr)=Fr\")\n"
   ]
  },
  {
   "cell_type": "code",
   "execution_count": null,
   "metadata": {},
   "outputs": [],
   "source": [
    " using Pkg\n",
    "    Pkg.add(\"Plots\")\n",
    "    using Plots\n",
    "    plotly() # Choose the Plotly.jl backend for web interactivity\n",
    "    plot(rand(5,5),linewidth=2,title=\"My Plot\")\n",
    "    Pkg.add(\"PyPlot\") # Install a different backend\n",
    "    pyplot() # Switch to using the PyPlot.jl backend\n",
    "    plot(rand(5,5),linewidth=2,title=\"My Plot\") # The same plotting command works"
   ]
  },
  {
   "cell_type": "code",
   "execution_count": null,
   "metadata": {},
   "outputs": [],
   "source": []
  }
 ],
 "metadata": {
  "kernelspec": {
   "display_name": "Julia 1.1.1",
   "language": "julia",
   "name": "julia-1.1"
  },
  "language_info": {
   "file_extension": ".jl",
   "mimetype": "application/julia",
   "name": "julia",
   "version": "1.1.1"
  }
 },
 "nbformat": 4,
 "nbformat_minor": 2
}
