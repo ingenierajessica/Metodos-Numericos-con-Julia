{
 "cells": [
  {
   "cell_type": "markdown",
   "metadata": {},
   "source": [
    "# UNAM - Posgrado en Ciencia e Ingeniería de la Computación"
   ]
  },
  {
   "cell_type": "markdown",
   "metadata": {},
   "source": [
    "## Métodos Númericos"
   ]
  },
  {
   "cell_type": "markdown",
   "metadata": {},
   "source": [
    "### =========    Error absoluto y relativo =========="
   ]
  },
  {
   "cell_type": "markdown",
   "metadata": {},
   "source": [
    "#### Alumna: Ing. Jessica Rincón"
   ]
  },
  {
   "cell_type": "markdown",
   "metadata": {},
   "source": [
    "#### Profesor: Dr. Oscar Esquivel"
   ]
  },
  {
   "cell_type": "markdown",
   "metadata": {},
   "source": [
    "-------------------------------Programación en Julia 2019--------------------------------------------"
   ]
  },
  {
   "cell_type": "markdown",
   "metadata": {},
   "source": [
    "Error absoluto ea=|X-Xa|"
   ]
  },
  {
   "cell_type": "markdown",
   "metadata": {},
   "source": [
    "Es importante medir ó estimar el error que se comete al utilizar la aproximación Xa en lugar de X"
   ]
  },
  {
   "cell_type": "markdown",
   "metadata": {},
   "source": [
    "Error relativo er =|(X-Xa)/X|"
   ]
  },
  {
   "cell_type": "markdown",
   "metadata": {},
   "source": [
    "Ejercicio: Establecer los errores absolutos y relativo de 10 iteracciones con respecto a la constante"
   ]
  },
  {
   "cell_type": "code",
   "execution_count": 3,
   "metadata": {},
   "outputs": [
    {
     "data": {
      "text/plain": [
       "2.71828"
      ]
     },
     "execution_count": 3,
     "metadata": {},
     "output_type": "execute_result"
    }
   ],
   "source": [
    "#Estableciendo la constante\n",
    "e=2.71828"
   ]
  },
  {
   "cell_type": "markdown",
   "metadata": {},
   "source": [
    "e=Suma|1->10|[1/K!]"
   ]
  },
  {
   "cell_type": "code",
   "execution_count": 5,
   "metadata": {},
   "outputs": [
    {
     "name": "stdout",
     "output_type": "stream",
     "text": [
      "-------------------======>\n",
      "Factorial de 0:1\n",
      "1.0\n",
      "ea:1.71828\n",
      "er:0.6321203113733684\n",
      "-------------------======>\n",
      "Factorial de 1:1\n",
      "1.0\n",
      "ea:1.71828\n",
      "er:0.6321203113733684\n",
      "-------------------======>\n",
      "Factorial de 2:2\n",
      "0.5\n",
      "ea:2.21828\n",
      "er:0.8160601556866842\n",
      "-------------------======>\n",
      "Factorial de 3:6\n",
      "0.16666666666666666\n",
      "ea:2.5516133333333335\n",
      "er:0.9386867185622282\n",
      "-------------------======>\n",
      "Factorial de 4:24\n",
      "0.041666666666666664\n",
      "ea:2.6766133333333335\n",
      "er:0.984671679640557\n",
      "-------------------======>\n",
      "Factorial de 5:120\n",
      "0.008333333333333333\n",
      "ea:2.7099466666666667\n",
      "er:0.9969343359281114\n",
      "-------------------======>\n",
      "Factorial de 6:720\n",
      "0.001388888888888889\n",
      "ea:2.716891111111111\n",
      "er:0.9994890559880185\n",
      "-------------------======>\n",
      "Factorial de 7:5040\n",
      "0.0001984126984126984\n",
      "ea:2.718081587301587\n",
      "er:0.9999270079982883\n",
      "-------------------======>\n",
      "Factorial de 8:40320\n",
      "2.48015873015873e-5\n",
      "ea:2.7182551984126984\n",
      "er:0.999990875999786\n",
      "-------------------======>\n",
      "Factorial de 9:362880\n",
      "2.7557319223985893e-6\n",
      "ea:2.718277244268078\n",
      "er:0.9999989862221985\n",
      "-------------------======>\n",
      "Factorial de 10:3628800\n",
      "2.755731922398589e-7\n",
      "ea:2.7182797244268078\n",
      "er:0.9999998986222198\n"
     ]
    }
   ],
   "source": [
    "for c in 0:10\n",
    "    println(\"-------------------======>\") \n",
    "    f=factorial(c)\n",
    "    println(\"Factorial de \",c,\":\", f)\n",
    "    e_fac=1/factorial(c)\n",
    "    println(e_fac)\n",
    "    ea = abs(e-e_fac)\n",
    "    println(\"ea:\",ea)\n",
    "    er = abs((e-e_fac)/e)\n",
    "    println(\"er:\",er)\n",
    "    \n",
    "end"
   ]
  }
 ],
 "metadata": {
  "kernelspec": {
   "display_name": "Julia 1.1.1",
   "language": "julia",
   "name": "julia-1.1"
  },
  "language_info": {
   "file_extension": ".jl",
   "mimetype": "application/julia",
   "name": "julia",
   "version": "1.1.1"
  }
 },
 "nbformat": 4,
 "nbformat_minor": 2
}
