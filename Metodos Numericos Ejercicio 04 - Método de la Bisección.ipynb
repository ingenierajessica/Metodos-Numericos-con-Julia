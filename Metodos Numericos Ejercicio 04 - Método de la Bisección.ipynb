{
 "cells": [
  {
   "cell_type": "markdown",
   "metadata": {},
   "source": [
    "# UNAM - Posgrado en Ciencia e Ingeniería de la Computación"
   ]
  },
  {
   "cell_type": "markdown",
   "metadata": {},
   "source": [
    "## Métodos Numéricos"
   ]
  },
  {
   "cell_type": "markdown",
   "metadata": {},
   "source": [
    "### =========    Método de la Bisección =========="
   ]
  },
  {
   "cell_type": "markdown",
   "metadata": {},
   "source": [
    "#### Alumna: Ing. Jessica Rincón"
   ]
  },
  {
   "cell_type": "markdown",
   "metadata": {},
   "source": [
    "#### Profesor: Dr. Oscar Esquivel"
   ]
  },
  {
   "cell_type": "markdown",
   "metadata": {},
   "source": [
    "-------------------------------Programación en Julia  2019--------------------------------------------"
   ]
  },
  {
   "cell_type": "markdown",
   "metadata": {},
   "source": [
    "Ejercicio: Proponer una forma de g(x) con f(x) e iterarla"
   ]
  },
  {
   "cell_type": "markdown",
   "metadata": {},
   "source": [
    "## Ejercicio 1"
   ]
  },
  {
   "cell_type": "markdown",
   "metadata": {},
   "source": [
    "f(x) =  x^3 + 4x^2-10"
   ]
  },
  {
   "cell_type": "code",
   "execution_count": 101,
   "metadata": {},
   "outputs": [
    {
     "data": {
      "text/plain": [
       "13-element Array{Float64,1}:\n",
       " 0.0\n",
       " 0.0\n",
       " 0.0\n",
       " 0.0\n",
       " 0.0\n",
       " 0.0\n",
       " 0.0\n",
       " 0.0\n",
       " 0.0\n",
       " 0.0\n",
       " 0.0\n",
       " 0.0\n",
       " 0.0"
      ]
     },
     "execution_count": 101,
     "metadata": {},
     "output_type": "execute_result"
    }
   ],
   "source": [
    "a = zeros(13)\n",
    "b = zeros(13)\n",
    "p = zeros(13)\n",
    "fp = zeros(13)\n",
    "fa = zeros(13)\n",
    "fb = zeros(13)\n",
    "er = zeros(13)"
   ]
  },
  {
   "cell_type": "code",
   "execution_count": 89,
   "metadata": {},
   "outputs": [
    {
     "name": "stdout",
     "output_type": "stream",
     "text": [
      "a=1.0\t b=2.0, \t pn=1.5, \t f=2.375\n",
      "a=1.5\t b=2.0, \t pn=1.25, \t f=2.375\n",
      "a=1.25\t b=2.0, \t pn=1.375, \t f=-1.796875\n",
      "a=1.375\t b=2.0, \t pn=1.3125, \t f=0.162109375\n",
      "a=1.3125\t b=2.0, \t pn=1.28125, \t f=-0.848388671875\n",
      "a=1.3125\t b=1.28125, \t pn=1.296875, \t f=-1.330291748046875\n",
      "a=1.3125\t b=1.296875, \t pn=1.2890625, \t f=-1.0912666320800781\n",
      "a=1.3125\t b=1.2890625, \t pn=1.23828125, \t f=-1.211259365081787\n",
      "a=1.3125\t b=1.23828125, \t pn=1.388671875, \t f=-1.9679314494132996\n",
      "a=1.388671875\t b=1.23828125, \t pn=1.3876953125, \t f=0.3915664479136467\n"
     ]
    }
   ],
   "source": [
    "# poor style\n",
    "n = 10\n",
    "# ϵ = zeros(n)\n",
    "a[1] = 1\n",
    "b[1] = 2\n",
    "for k in 1:n\n",
    "    if k==1\n",
    "        p[k]=a[k]+((b[k]-a[k])/2 ) \n",
    "        fp[k]=p[k]*p[k]*p[k]+4*p[k]*p[k]-10\n",
    "        println(\"a=\",a[k],\"\\t b=\",b[k],\", \\t pn=\",p[k],\", \\t f=\",fp[k])    \n",
    "     else \n",
    "        p[k]=a[k]+((b[k]-a[k])/2 ) \n",
    "        fp[k]=p[k]*p[k]*p[k]+4*p[k]*p[k]-10\n",
    "        fa[k]=a[k-1]*a[k-1]*a[k-1]+4*a[k-1]*a[k-1]-10\n",
    "        #println(\"g\"a[k])\n",
    "        fp[k]=p[k-1]*p[k-1]*p[k-1]+4*p[k-1]*p[k-1]-10\n",
    "        #println(fp[k])\n",
    "        if (fa[k]*fp[k])>0\n",
    "              b[k]=p[k-1]\n",
    "            a[k]=a[k-1]\n",
    "        else\n",
    "            a[k]=p[k-1]\n",
    "            b[k]=b[k-1]\n",
    "            #println(p[k-1])\n",
    "           \n",
    "            \n",
    "          \n",
    "        end    \n",
    "        println(\"a=\",a[k],\"\\t b=\",b[k],\", \\t pn=\",p[k],\", \\t f=\",fp[k]) \n",
    "        \n",
    "    end\n",
    "end\n",
    "\n",
    " "
   ]
  },
  {
   "cell_type": "markdown",
   "metadata": {},
   "source": [
    "## Ejercicio 2"
   ]
  },
  {
   "cell_type": "markdown",
   "metadata": {},
   "source": [
    "f(x) =  x^3 + x+1"
   ]
  },
  {
   "cell_type": "code",
   "execution_count": 103,
   "metadata": {},
   "outputs": [
    {
     "name": "stdout",
     "output_type": "stream",
     "text": [
      "a=-1.0\t b=1.0, \t pn=0.0, \t f=1.0\n",
      "a=0.0\t b=1.0, \t pn=0.5, \t f=1.0, \t er=1.0\n",
      "a=0.0\t b=0.5, \t pn=0.0, \t f=1.625, \t er=200.0\n",
      "a=0.0\t b=0.0, \t pn=0.0, \t f=1.0, \t er=200.0\n",
      "a=0.0\t b=0.0, \t pn=0.0, \t f=1.0, \t er=200.0\n",
      "a=0.0\t b=0.0, \t pn=0.0, \t f=1.0, \t er=200.0\n",
      "a=0.0\t b=0.0, \t pn=0.0, \t f=1.0, \t er=200.0\n",
      "a=0.0\t b=0.0, \t pn=0.0, \t f=1.0, \t er=200.0\n",
      "a=0.0\t b=0.0, \t pn=0.0, \t f=1.0, \t er=200.0\n",
      "a=0.0\t b=0.0, \t pn=0.0, \t f=1.0, \t er=200.0\n"
     ]
    }
   ],
   "source": [
    "# poor style\n",
    "n = 10\n",
    "# ϵ = zeros(n)\n",
    "a[1] = -1\n",
    "b[1] = 1\n",
    "for k in 1:n\n",
    "    if k==1\n",
    "        p[k]=a[k]+((b[k]-a[k])/2 ) \n",
    "        fp[k]=p[k]*p[k]*p[k]+p[k]+1\n",
    "        println(\"a=\",a[k],\"\\t b=\",b[k],\", \\t pn=\",p[k],\", \\t f=\",fp[k])    \n",
    "     else \n",
    "        p[k]=a[k]+((b[k]-a[k])/2 ) \n",
    "        fp[k]=p[k]*p[k]*p[k]+p[k]+1\n",
    "        fa[k]=a[k-1]*a[k-1]*a[k-1]+ a[k-1]+1\n",
    "        #println(\"g\"a[k])\n",
    "        fp[k]=p[k-1]*p[k-1]*p[k-1]+ p[k-1]+1\n",
    "        #println(fp[k])\n",
    "        if (fa[k]*fp[k])>0\n",
    "              b[k]=p[k-1]\n",
    "            a[k]=a[k-1]\n",
    "        else\n",
    "            a[k]=p[k-1]\n",
    "            b[k]=b[k-1]\n",
    "            #println(p[k-1])\n",
    "           \n",
    "            \n",
    "          \n",
    "        end  \n",
    "        if p[k]==0 \n",
    "             er[k] = 200\n",
    "            \n",
    "        else\n",
    "           er[k] = abs((p[k]-p[k-1])/p[k])\n",
    "        end\n",
    "        println(\"a=\",a[k],\"\\t b=\",b[k],\", \\t pn=\",p[k],\", \\t f=\",fp[k],\", \\t er=\",er[k]) \n",
    "        \n",
    "    end\n",
    "end\n"
   ]
  },
  {
   "cell_type": "code",
   "execution_count": null,
   "metadata": {},
   "outputs": [],
   "source": []
  }
 ],
 "metadata": {
  "kernelspec": {
   "display_name": "Julia 1.1.1",
   "language": "julia",
   "name": "julia-1.1"
  },
  "language_info": {
   "file_extension": ".jl",
   "mimetype": "application/julia",
   "name": "julia",
   "version": "1.1.1"
  }
 },
 "nbformat": 4,
 "nbformat_minor": 2
}
